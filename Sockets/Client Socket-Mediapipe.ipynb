{
 "cells": [
  {
   "cell_type": "code",
   "execution_count": null,
   "id": "5bf68b0d",
   "metadata": {},
   "outputs": [],
   "source": [
    "import socket\n",
    "import json\n",
    "\n",
    "# Function to receive and print the wrist coordinates\n",
    "def receive_and_print_coordinates():\n",
    "    client = socket.socket(socket.AF_INET, socket.SOCK_STREAM)\n",
    "    client.connect(('localhost', 12345))\n",
    "\n",
    "    while True:\n",
    "        data = client.recv(1024)\n",
    "        if not data:\n",
    "            break\n",
    "\n",
    "        wrist_coords = json.loads(data.decode())  # Decode and parse JSON data\n",
    "        print(\"Received Wrist Coordinates:\", wrist_coords)\n",
    "\n",
    "    client.close()\n",
    "\n",
    "# Start the client to receive and print coordinates\n",
    "receive_and_print_coordinates()\n"
   ]
  },
  {
   "cell_type": "code",
   "execution_count": 1,
   "id": "83bf6424",
   "metadata": {},
   "outputs": [
    {
     "name": "stdout",
     "output_type": "stream",
     "text": [
      "Received Wrist Coordinates: {'x': 0.9230993390083313, 'y': 0.845784604549408, 'z': 6.35942569715553e-07}\n",
      "Received Wrist Coordinates: {'x': 0.888921856880188, 'y': 0.7762519121170044, 'z': 7.432134339069307e-07}\n",
      "Received Wrist Coordinates: {'x': 0.8232039213180542, 'y': 0.7755126953125, 'z': 5.462034096126445e-07}\n",
      "Received Wrist Coordinates: {'x': 0.6519102454185486, 'y': 0.7875452637672424, 'z': 5.806461444990418e-07}\n",
      "Received Wrist Coordinates: {'x': 0.7277471423149109, 'y': 0.7302390336990356, 'z': 4.0065154394142155e-07}\n",
      "Received Wrist Coordinates: {'x': 0.7954361438751221, 'y': 0.6668309569358826, 'z': 4.925939265376655e-07}\n",
      "Received Wrist Coordinates: {'x': 0.8475618958473206, 'y': 0.7063802480697632, 'z': 5.348898639567778e-07}\n",
      "Received Wrist Coordinates: {'x': 0.800631582736969, 'y': 0.7369627952575684, 'z': 4.211935902276309e-07}\n",
      "Received Wrist Coordinates: {'x': 0.6487080454826355, 'y': 0.8203697204589844, 'z': 5.996728873469692e-07}\n",
      "Received Wrist Coordinates: {'x': 0.6638067364692688, 'y': 0.8312454223632812, 'z': 5.062707941760891e-07}\n",
      "Received Wrist Coordinates: {'x': 0.7300131916999817, 'y': 0.7675778865814209, 'z': 5.16818943196995e-07}\n",
      "Received Wrist Coordinates: {'x': 0.7767611145973206, 'y': 0.7573964595794678, 'z': 4.0944408397081133e-07}\n",
      "Received Wrist Coordinates: {'x': 0.8320553302764893, 'y': 0.7303863167762756, 'z': 3.634011420672323e-07}\n",
      "Received Wrist Coordinates: {'x': 0.8412548303604126, 'y': 0.7204498052597046, 'z': 5.218507794779725e-07}\n",
      "Received Wrist Coordinates: {'x': 0.7961342930793762, 'y': 0.73694908618927, 'z': 4.243135833803535e-07}\n",
      "Received Wrist Coordinates: {'x': 0.6043298244476318, 'y': 0.8485480546951294, 'z': 7.704960012233641e-07}\n",
      "Received Wrist Coordinates: {'x': 0.56685471534729, 'y': 0.9130387306213379, 'z': 4.962067805536208e-07}\n",
      "Received Wrist Coordinates: {'x': 0.5913500189781189, 'y': 0.9001336693763733, 'z': 3.695639065881551e-07}\n",
      "Received Wrist Coordinates: {'x': 0.7558882832527161, 'y': 0.7150214910507202, 'z': 5.501433975041436e-07}\n",
      "Received Wrist Coordinates: {'x': 0.806027889251709, 'y': 0.7070261240005493, 'z': 4.5909811774436093e-07}\n",
      "Received Wrist Coordinates: {'x': 0.8220431804656982, 'y': 0.7043057680130005, 'z': 4.795347194885835e-07}\n",
      "Received Wrist Coordinates: {'x': 0.7914735674858093, 'y': 0.7227611541748047, 'z': 4.426981092819915e-07}\n",
      "Received Wrist Coordinates: {'x': 0.7424638271331787, 'y': 0.7919028401374817, 'z': 5.220038588049647e-07}\n",
      "Received Wrist Coordinates: {'x': 0.6857157349586487, 'y': 0.9243581891059875, 'z': 4.013253089851787e-07}\n",
      "Received Wrist Coordinates: {'x': 0.8136346936225891, 'y': 1.066096544265747, 'z': -1.5158124710978882e-07}\n",
      "Received Wrist Coordinates: {'x': 0.8220162391662598, 'y': 0.963455319404602, 'z': 5.985926918583573e-07}\n",
      "Received Wrist Coordinates: {'x': 0.8160630464553833, 'y': 0.7531377673149109, 'z': 5.603244517260464e-07}\n",
      "Received Wrist Coordinates: {'x': 0.8200727701187134, 'y': 0.861527681350708, 'z': 6.366325919771043e-07}\n",
      "Received Wrist Coordinates: {'x': 0.8095993995666504, 'y': 0.7628841400146484, 'z': 6.062613238100312e-07}\n",
      "Received Wrist Coordinates: {'x': 0.7899003028869629, 'y': 0.6270840764045715, 'z': 4.2678064460233145e-07}\n",
      "Received Wrist Coordinates: {'x': 0.7954516410827637, 'y': 0.6708992719650269, 'z': 4.152693406922481e-07}\n",
      "Received Wrist Coordinates: {'x': 0.7786666750907898, 'y': 0.6131307482719421, 'z': 3.516501578815223e-07}\n",
      "Received Wrist Coordinates: {'x': 0.7713570594787598, 'y': 0.5981035232543945, 'z': 3.6272319903218886e-07}\n",
      "Received Wrist Coordinates: {'x': 0.7655534744262695, 'y': 0.5900704860687256, 'z': 3.5393006214690104e-07}\n",
      "Received Wrist Coordinates: {'x': 0.7635024189949036, 'y': 0.5969462990760803, 'z': 3.543529203398066e-07}\n",
      "Received Wrist Coordinates: {'x': 0.7647679448127747, 'y': 0.601457953453064, 'z': 3.57448072918487e-07}\n",
      "Received Wrist Coordinates: {'x': 0.764122486114502, 'y': 0.6023212671279907, 'z': 3.548204290382273e-07}\n",
      "Received Wrist Coordinates: {'x': 0.7644837498664856, 'y': 0.5960800647735596, 'z': 3.653946123449714e-07}\n",
      "Received Wrist Coordinates: {'x': 0.7643806338310242, 'y': 0.5732452273368835, 'z': 3.719046617334243e-07}\n",
      "Received Wrist Coordinates: {'x': 0.7593114376068115, 'y': 0.5477700233459473, 'z': 3.903434446783649e-07}\n",
      "Received Wrist Coordinates: {'x': 0.7457000017166138, 'y': 0.5128225684165955, 'z': 3.677977247207309e-07}\n",
      "Received Wrist Coordinates: {'x': 0.7331357598304749, 'y': 0.49697166681289673, 'z': 3.2508236813555413e-07}\n",
      "Received Wrist Coordinates: {'x': 0.7246869802474976, 'y': 0.496876060962677, 'z': 3.078932877542684e-07}\n",
      "Received Wrist Coordinates: {'x': 0.7173362970352173, 'y': 0.4991636872291565, 'z': 2.996108889874449e-07}\n",
      "Received Wrist Coordinates: {'x': 0.7138678431510925, 'y': 0.5167398452758789, 'z': 2.6845091838367807e-07}\n",
      "Received Wrist Coordinates: {'x': 0.7028934955596924, 'y': 0.5380072593688965, 'z': 2.5453357466176385e-07}\n",
      "Received Wrist Coordinates: {'x': 0.6938497424125671, 'y': 0.5620539784431458, 'z': 2.560885548064107e-07}\n",
      "Received Wrist Coordinates: {'x': 0.6878793239593506, 'y': 0.5871503353118896, 'z': 2.648363306434476e-07}\n",
      "Received Wrist Coordinates: {'x': 0.687552273273468, 'y': 0.6094352006912231, 'z': 2.558362837135064e-07}\n",
      "Received Wrist Coordinates: {'x': 0.6912088990211487, 'y': 0.6237145662307739, 'z': 2.5154193394882896e-07}\n",
      "Received Wrist Coordinates: {'x': 0.693749725818634, 'y': 0.6294260621070862, 'z': 2.7581290851230733e-07}\n",
      "Received Wrist Coordinates: {'x': 0.7015145421028137, 'y': 0.6342114210128784, 'z': 2.624958881369821e-07}\n",
      "Received Wrist Coordinates: {'x': 0.7054545879364014, 'y': 0.6363736391067505, 'z': 2.6489013293939934e-07}\n",
      "Received Wrist Coordinates: {'x': 0.7054884433746338, 'y': 0.6321746706962585, 'z': 2.566414991633792e-07}\n",
      "Press 'E' to exit: E\n"
     ]
    },
    {
     "name": "stderr",
     "output_type": "stream",
     "text": [
      "Exception in thread Thread-4:\n",
      "Traceback (most recent call last):\n",
      "  File \"/Users/moamenibrahem/opt/anaconda3/lib/python3.8/threading.py\", line 932, in _bootstrap_inner\n",
      "    self.run()\n",
      "  File \"/Users/moamenibrahem/opt/anaconda3/lib/python3.8/threading.py\", line 870, in run\n",
      "    self._target(*self._args, **self._kwargs)\n",
      "  File \"<ipython-input-1-19a6f0ae3e1a>\", line 8, in receive_and_print_coordinates\n",
      "OSError: [Errno 9] Bad file descriptor\n"
     ]
    },
    {
     "name": "stdout",
     "output_type": "stream",
     "text": [
      "Received Wrist Coordinates: {'x': 0.7083882093429565, 'y': 0.6352832317352295, 'z': 2.4127396613948804e-07}\n",
      "Received Wrist Coordinates: {'x': 0.7111110091209412, 'y': 0.6353825330734253, 'z': 2.414233222225448e-07}\n",
      "Received Wrist Coordinates: {'x': 0.7174246311187744, 'y': 0.6328051090240479, 'z': 2.3746267174828972e-07}\n"
     ]
    }
   ],
   "source": [
    "import socket\n",
    "import json\n",
    "import threading\n",
    "\n",
    "# Function to receive and print the wrist coordinates\n",
    "def receive_and_print_coordinates(client_socket):\n",
    "    while True:\n",
    "        data = client_socket.recv(1024)\n",
    "        if not data:\n",
    "            break\n",
    "\n",
    "        wrist_coords = json.loads(data.decode())  # Decode and parse JSON data\n",
    "        print(\"Received Wrist Coordinates:\", wrist_coords)\n",
    "\n",
    "    client_socket.close()\n",
    "\n",
    "# Function to listen for keyboard input\n",
    "def listen_for_keyboard_input(client_socket):\n",
    "    while True:\n",
    "        user_input = input(\"Press 'E' to exit: \")\n",
    "        if user_input.lower() == 'e':\n",
    "            client_socket.close()\n",
    "            break\n",
    "\n",
    "# Create a client socket\n",
    "client = socket.socket(socket.AF_INET, socket.SOCK_STREAM)\n",
    "client.connect(('localhost', 12345))\n",
    "\n",
    "# Create and start the receive thread\n",
    "receive_thread = threading.Thread(target=receive_and_print_coordinates, args=(client,))\n",
    "receive_thread.start()\n",
    "\n",
    "# Create and start the keyboard input thread\n",
    "keyboard_thread = threading.Thread(target=listen_for_keyboard_input, args=(client,))\n",
    "keyboard_thread.start()\n",
    "\n",
    "# Wait for both threads to finish\n",
    "receive_thread.join()\n",
    "keyboard_thread.join()\n"
   ]
  },
  {
   "cell_type": "code",
   "execution_count": null,
   "id": "1f65768b",
   "metadata": {},
   "outputs": [],
   "source": [
    "soc.close()"
   ]
  },
  {
   "cell_type": "code",
   "execution_count": null,
   "id": "c7ee795d",
   "metadata": {},
   "outputs": [],
   "source": []
  }
 ],
 "metadata": {
  "kernelspec": {
   "display_name": "Python 3",
   "language": "python",
   "name": "python3"
  },
  "language_info": {
   "codemirror_mode": {
    "name": "ipython",
    "version": 3
   },
   "file_extension": ".py",
   "mimetype": "text/x-python",
   "name": "python",
   "nbconvert_exporter": "python",
   "pygments_lexer": "ipython3",
   "version": "3.8.8"
  }
 },
 "nbformat": 4,
 "nbformat_minor": 5
}
