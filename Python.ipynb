{
 "cells": [
  {
   "cell_type": "code",
   "execution_count": null,
   "id": "f9cc5094",
   "metadata": {},
   "outputs": [
    {
     "name": "stdout",
     "output_type": "stream",
     "text": [
      "device connected('127.0.0.1', 59986)\n"
     ]
    }
   ],
   "source": [
    "import socket \n",
    "\n",
    "soc = socket.socket()\n",
    "hostname=\"localhost\"# 127.0.0.1 #0.0.0.0\n",
    "port=65435\n",
    "soc.bind((hostname,port))\n",
    "soc.listen(5)\n",
    "conn , addr = soc.accept()\n",
    "print(\"device connected\"+str(addr))\n",
    "y=[2,4,7,22]\n",
    "import pick\n",
    "while True :\n",
    "    msg = pickle.dumps(y)\n",
    "    conn.send(msg)\n"
   ]
  },
  {
   "cell_type": "code",
   "execution_count": null,
   "id": "4ef3a75c",
   "metadata": {},
   "outputs": [],
   "source": [
    "soc.close()"
   ]
  },
  {
   "cell_type": "code",
   "execution_count": null,
   "id": "b762a86d",
   "metadata": {},
   "outputs": [],
   "source": []
  }
 ],
 "metadata": {
  "kernelspec": {
   "display_name": "Python 3",
   "language": "python",
   "name": "python3"
  },
  "language_info": {
   "codemirror_mode": {
    "name": "ipython",
    "version": 3
   },
   "file_extension": ".py",
   "mimetype": "text/x-python",
   "name": "python",
   "nbconvert_exporter": "python",
   "pygments_lexer": "ipython3",
   "version": "3.8.8"
  }
 },
 "nbformat": 4,
 "nbformat_minor": 5
}
